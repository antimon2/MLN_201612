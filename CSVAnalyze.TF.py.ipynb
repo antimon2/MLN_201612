{
 "cells": [
  {
   "cell_type": "code",
   "execution_count": null,
   "metadata": {
    "collapsed": true
   },
   "outputs": [],
   "source": [
    "import tensorflow as tf\n",
    "import numpy as np"
   ]
  },
  {
   "cell_type": "code",
   "execution_count": null,
   "metadata": {
    "collapsed": true
   },
   "outputs": [],
   "source": [
    "csv_filename = \"log_20161110.csv\""
   ]
  },
  {
   "cell_type": "markdown",
   "metadata": {},
   "source": [
    "+ csv ファイルは、列ヘッダなし・列数8列・全5902行\n",
    "+ 各列は以下の通り：\n",
    "    + ページ（パス、文字列）\n",
    "    + ページビュー数（整数）\n",
    "    + ページ別訪問数（整数）\n",
    "    + 平均ページ滞在時間（整数）\n",
    "    + 閲覧開始数（整数）\n",
    "    + 直帰率（実数）\n",
    "    + 離脱率（実数）\n",
    "    + コンテンツサイズ（整数）"
   ]
  },
  {
   "cell_type": "code",
   "execution_count": null,
   "metadata": {
    "collapsed": false
   },
   "outputs": [],
   "source": [
    "# np_logcsv = np.loadtxt(\"log_20161110.csv\", delimiter=\",\")\n",
    "# # @> ValueError（最初の列が文字列なので実数値にparseできなくて怒られる＞＜）"
   ]
  },
  {
   "cell_type": "code",
   "execution_count": null,
   "metadata": {
    "collapsed": true
   },
   "outputs": [],
   "source": [
    "filename_queue = tf.train.string_input_producer([csv_filename])"
   ]
  },
  {
   "cell_type": "code",
   "execution_count": null,
   "metadata": {
    "collapsed": true
   },
   "outputs": [],
   "source": [
    "# TextLineReader 生成（1行ずつ読み込む Reader）\n",
    "reader = tf.TextLineReader()\n",
    "key, value = reader.read(filename_queue)"
   ]
  },
  {
   "cell_type": "code",
   "execution_count": null,
   "metadata": {
    "collapsed": false
   },
   "outputs": [],
   "source": [
    "# CSVデコード\n",
    "# ※ 列は8列、文字列、整数、整数、整数、整数、実数、実数、整数。だが処理の都合上、\n",
    "# 　 最初以外は実数として扱う↓）\n",
    "page, pv, visits, duration, entrances, bounce_rate, exit_rate, contents_size = (\n",
    "    tf.decode_csv(value, [['path'], [1.0], [1.0], [1.0], [1.0], [1.0], [1.0], [1.0]]))\n",
    "x = tf.pack([pv, visits, duration, entrances, bounce_rate, contents_size])\n",
    "y = exit_rate"
   ]
  },
  {
   "cell_type": "code",
   "execution_count": null,
   "metadata": {
    "collapsed": true
   },
   "outputs": [],
   "source": [
    "X_batch, Y_batch = tf.train.batch(\n",
    "      [x, y], batch_size=128)"
   ]
  },
  {
   "cell_type": "code",
   "execution_count": null,
   "metadata": {
    "collapsed": false
   },
   "outputs": [],
   "source": [
    "# セッション開始\n",
    "with tf.Session() as sess:\n",
    "    # 入力 enqueue スレッド開始\n",
    "    coord = tf.train.Coordinator()\n",
    "    threads = tf.train.start_queue_runners(\n",
    "                    sess=sess, coord=coord)\n",
    "\n",
    "    try:\n",
    "        # ミニバッチ処理ループ\n",
    "        while not coord.should_stop():\n",
    "            XData, YData = sess.run([X_batch, Y_batch])\n",
    "            # 取り敢えず内容確認して break\n",
    "            print((XData, YData))\n",
    "            break\n",
    "\n",
    "    finally:\n",
    "        coord.request_stop()\n",
    "        coord.join(threads)"
   ]
  },
  {
   "cell_type": "code",
   "execution_count": null,
   "metadata": {
    "collapsed": true
   },
   "outputs": [],
   "source": [
    "csv_lines = open(csv_filename, \"r\").readlines()"
   ]
  },
  {
   "cell_type": "code",
   "execution_count": null,
   "metadata": {
    "collapsed": false
   },
   "outputs": [],
   "source": [
    "len(csv_lines)"
   ]
  },
  {
   "cell_type": "code",
   "execution_count": null,
   "metadata": {
    "collapsed": false
   },
   "outputs": [],
   "source": [
    "csv_lines[:6]"
   ]
  },
  {
   "cell_type": "code",
   "execution_count": null,
   "metadata": {
    "collapsed": false
   },
   "outputs": [],
   "source": [
    "train_idxs = np.random.choice(range(5902), 5902*5//6, replace=False)"
   ]
  },
  {
   "cell_type": "code",
   "execution_count": null,
   "metadata": {
    "collapsed": false
   },
   "outputs": [],
   "source": [
    "train_data = np.array(csv_lines)[train_idxs]"
   ]
  },
  {
   "cell_type": "code",
   "execution_count": null,
   "metadata": {
    "collapsed": false
   },
   "outputs": [],
   "source": [
    "csv_data = np.array(csv_lines)\n",
    "np.random.shuffle(csv_data)\n",
    "csv_data[:6]"
   ]
  },
  {
   "cell_type": "code",
   "execution_count": null,
   "metadata": {
    "collapsed": false
   },
   "outputs": [],
   "source": [
    "train_num = len(csv_lines) * 5 // 6\n",
    "train_data = csv_data[:train_num]\n",
    "test_data = csv_data[train_num:]\n",
    "\n",
    "(len(train_data), len(test_data))"
   ]
  },
  {
   "cell_type": "code",
   "execution_count": null,
   "metadata": {
    "collapsed": true
   },
   "outputs": [],
   "source": [
    "with open(\"train.csv\", \"w\") as f:\n",
    "    for line in train_data:\n",
    "        f.write(line)"
   ]
  },
  {
   "cell_type": "code",
   "execution_count": null,
   "metadata": {
    "collapsed": true
   },
   "outputs": [],
   "source": [
    "with open(\"test.csv\", \"w\") as f:\n",
    "    for line in test_data:\n",
    "        f.write(line)"
   ]
  },
  {
   "cell_type": "code",
   "execution_count": null,
   "metadata": {
    "collapsed": true
   },
   "outputs": [],
   "source": [
    "def read_data(filename):\n",
    "    filename_queue = tf.train.string_input_producer([filename])\n",
    "\n",
    "    # TextLineReader 生成（1行ずつ読み込む Reader）\n",
    "    reader = tf.TextLineReader()\n",
    "    key, value = reader.read(filename_queue)\n",
    "\n",
    "    # CSVデコード\n",
    "    # ※ 列は8列、文字列、整数、整数、整数、整数、実数、実数、整数。だが処理の都合上、\n",
    "    # 　 最初以外は実数として扱う↓）\n",
    "    page, pv, visits, duration, entrances, bounce_rate, exit_rate, contents_size = (\n",
    "        tf.decode_csv(value, [['path'], [1.0], [1.0], [1.0], [1.0], [1.0], [1.0], [1.0]]))\n",
    "    x = tf.pack([pv, visits, duration, entrances, bounce_rate, contents_size])\n",
    "    # y = exit_rate\n",
    "    # # round \n",
    "    # y = tf.round(exit_rate)\n",
    "    # # threshold 0.7 \n",
    "    # y = tf.floor(exit_rate + 0.3)\n",
    "    # threshold 0.4 \n",
    "    y = tf.floor(exit_rate + 0.6)\n",
    "\n",
    "    x_, y_ = tf.train.batch(\n",
    "          [x, y], batch_size=128)\n",
    "    return x_, tf.reshape(y_, [-1])"
   ]
  },
  {
   "cell_type": "code",
   "execution_count": null,
   "metadata": {
    "collapsed": false
   },
   "outputs": [],
   "source": [
    "x_train, y_train = read_data(\"train.csv\")"
   ]
  },
  {
   "cell_type": "code",
   "execution_count": null,
   "metadata": {
    "collapsed": false
   },
   "outputs": [],
   "source": [
    "(x_train, y_train)"
   ]
  },
  {
   "cell_type": "code",
   "execution_count": null,
   "metadata": {
    "collapsed": false
   },
   "outputs": [],
   "source": [
    "x_test, y_test = read_data(\"test.csv\")"
   ]
  },
  {
   "cell_type": "code",
   "execution_count": null,
   "metadata": {
    "collapsed": true
   },
   "outputs": [],
   "source": [
    "# W = tf.Variable(tf.zeros([6, 1]))\n",
    "W1 = tf.Variable(tf.truncated_normal([6, 10], stddev=2.0/16))\n",
    "b1 = tf.Variable(tf.zeros([10]))\n",
    "W2 = tf.Variable(tf.truncated_normal([10, 4], stddev=2.0/14))\n",
    "b2 = tf.Variable(tf.zeros([4]))\n",
    "W3 = tf.Variable(tf.truncated_normal([4, 1], stddev=2.0/5))\n",
    "b3 = tf.Variable(tf.zeros([1]))"
   ]
  },
  {
   "cell_type": "code",
   "execution_count": null,
   "metadata": {
    "collapsed": true
   },
   "outputs": [],
   "source": [
    "def inference(x, W1=W1, b1=b1, W2=W2, b2=b2, W3=W3, b3=b3):\n",
    "    a1 = tf.matmul(x, W1) + b1\n",
    "    z1 = tf.nn.relu(a1)\n",
    "    a2 = tf.matmul(z1, W2) + b2\n",
    "    z2 = tf.nn.relu(a2)\n",
    "    a3 = tf.matmul(z2, W3) + b3\n",
    "    # return tf.nn.sigmoid(tf.reshape(a3, [-1]))\n",
    "    return tf.reshape(a3, [-1])"
   ]
  },
  {
   "cell_type": "code",
   "execution_count": null,
   "metadata": {
    "collapsed": true
   },
   "outputs": [],
   "source": [
    "y = inference(x_train)"
   ]
  },
  {
   "cell_type": "code",
   "execution_count": null,
   "metadata": {
    "collapsed": false
   },
   "outputs": [],
   "source": [
    "y"
   ]
  },
  {
   "cell_type": "code",
   "execution_count": null,
   "metadata": {
    "collapsed": false
   },
   "outputs": [],
   "source": [
    "loss = tf.reduce_mean(tf.nn.sigmoid_cross_entropy_with_logits(y, y_train))\n",
    "# loss = tf.reduce_mean(tf.square(y_train - y))"
   ]
  },
  {
   "cell_type": "code",
   "execution_count": null,
   "metadata": {
    "collapsed": true
   },
   "outputs": [],
   "source": [
    "train_step = tf.train.GradientDescentOptimizer(0.5).minimize(loss)\n",
    "# train_step = tf.train.GradientDescentOptimizer(0.5).minimize(loss)"
   ]
  },
  {
   "cell_type": "code",
   "execution_count": null,
   "metadata": {
    "collapsed": true
   },
   "outputs": [],
   "source": [
    "y_eval = tf.nn.sigmoid(inference(x_test))\n",
    "# y_eval = inference(x_test)"
   ]
  },
  {
   "cell_type": "code",
   "execution_count": null,
   "metadata": {
    "collapsed": true
   },
   "outputs": [],
   "source": [
    "init = tf.initialize_all_variables()"
   ]
  },
  {
   "cell_type": "code",
   "execution_count": null,
   "metadata": {
    "collapsed": false
   },
   "outputs": [],
   "source": [
    "sess = tf.InteractiveSession()\n",
    "sess.run(init)"
   ]
  },
  {
   "cell_type": "code",
   "execution_count": null,
   "metadata": {
    "collapsed": true
   },
   "outputs": [],
   "source": [
    "# 入力 enqueue スレッド開始\n",
    "coord = tf.train.Coordinator()\n",
    "threads = tf.train.start_queue_runners(\n",
    "                sess=sess, coord=coord)"
   ]
  },
  {
   "cell_type": "code",
   "execution_count": null,
   "metadata": {
    "collapsed": false,
    "scrolled": false
   },
   "outputs": [],
   "source": [
    "try:\n",
    "    # ミニバッチ処理ループ\n",
    "    cnt = 0\n",
    "    while not coord.should_stop() and cnt < 3000:\n",
    "        _, loss_ = sess.run([train_step, loss])\n",
    "        if cnt % 100 == 0:\n",
    "            print(loss_)\n",
    "            y_test_, y_eval_ = sess.run([y_test, y_eval])\n",
    "            print(np.mean(y_test_ == np.round(y_eval_)))\n",
    "            # print(np.mean((y_eval_ - y_test_)**2))\n",
    "        cnt += 1\n",
    "        # break\n",
    "    W1_, b1_, W2_, b2_, W3_, b3_ = sess.run([W1, b1, W2, b2, W3, b3])\n",
    "finally:\n",
    "    coord.request_stop()\n",
    "    coord.join(threads)"
   ]
  },
  {
   "cell_type": "code",
   "execution_count": null,
   "metadata": {
    "collapsed": false
   },
   "outputs": [],
   "source": [
    "sess.close()"
   ]
  },
  {
   "cell_type": "code",
   "execution_count": null,
   "metadata": {
    "collapsed": false
   },
   "outputs": [],
   "source": [
    "loss_"
   ]
  },
  {
   "cell_type": "code",
   "execution_count": null,
   "metadata": {
    "collapsed": false
   },
   "outputs": [],
   "source": [
    "y_test_"
   ]
  },
  {
   "cell_type": "code",
   "execution_count": null,
   "metadata": {
    "collapsed": false
   },
   "outputs": [],
   "source": [
    "(y_eval_, np.round(y_eval_))"
   ]
  },
  {
   "cell_type": "code",
   "execution_count": null,
   "metadata": {
    "collapsed": false
   },
   "outputs": [],
   "source": [
    "(W1_, b1_)"
   ]
  },
  {
   "cell_type": "code",
   "execution_count": null,
   "metadata": {
    "collapsed": true
   },
   "outputs": [],
   "source": []
  }
 ],
 "metadata": {
  "kernelspec": {
   "display_name": "TensorFlow v0.9 (Python 3)",
   "language": "python",
   "name": "tensorflow09"
  },
  "language_info": {
   "codemirror_mode": {
    "name": "ipython",
    "version": 3
   },
   "file_extension": ".py",
   "mimetype": "text/x-python",
   "name": "python",
   "nbconvert_exporter": "python",
   "pygments_lexer": "ipython3",
   "version": "3.5.1"
  }
 },
 "nbformat": 4,
 "nbformat_minor": 1
}
